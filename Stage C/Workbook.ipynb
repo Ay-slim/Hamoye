{
 "cells": [
  {
   "cell_type": "code",
   "execution_count": 100,
   "metadata": {},
   "outputs": [
    {
     "ename": "ModuleNotFoundError",
     "evalue": "No module named 'lightgbm'",
     "output_type": "error",
     "traceback": [
      "\u001b[1;31m---------------------------------------------------------------------------\u001b[0m",
      "\u001b[1;31mModuleNotFoundError\u001b[0m                       Traceback (most recent call last)",
      "\u001b[1;32m<ipython-input-100-ac54a6c31bc5>\u001b[0m in \u001b[0;36m<module>\u001b[1;34m\u001b[0m\n\u001b[0;32m     18\u001b[0m \u001b[1;32mfrom\u001b[0m \u001b[0msklearn\u001b[0m\u001b[1;33m.\u001b[0m\u001b[0mensemble\u001b[0m \u001b[1;32mimport\u001b[0m \u001b[0mExtraTreesClassifier\u001b[0m\u001b[1;33m,\u001b[0m \u001b[0mRandomForestClassifier\u001b[0m\u001b[1;33m\u001b[0m\u001b[1;33m\u001b[0m\u001b[0m\n\u001b[0;32m     19\u001b[0m \u001b[1;32mfrom\u001b[0m \u001b[0mxgboost\u001b[0m \u001b[1;32mimport\u001b[0m \u001b[0mXGBClassifier\u001b[0m\u001b[1;33m\u001b[0m\u001b[1;33m\u001b[0m\u001b[0m\n\u001b[1;32m---> 20\u001b[1;33m \u001b[1;32mimport\u001b[0m \u001b[0mlightgbm\u001b[0m \u001b[1;32mas\u001b[0m \u001b[0mlgb\u001b[0m\u001b[1;33m\u001b[0m\u001b[1;33m\u001b[0m\u001b[0m\n\u001b[0m\u001b[0;32m     21\u001b[0m \u001b[0mget_ipython\u001b[0m\u001b[1;33m(\u001b[0m\u001b[1;33m)\u001b[0m\u001b[1;33m.\u001b[0m\u001b[0mrun_line_magic\u001b[0m\u001b[1;33m(\u001b[0m\u001b[1;34m'matplotlib'\u001b[0m\u001b[1;33m,\u001b[0m \u001b[1;34m'inline'\u001b[0m\u001b[1;33m)\u001b[0m\u001b[1;33m\u001b[0m\u001b[1;33m\u001b[0m\u001b[0m\n",
      "\u001b[1;31mModuleNotFoundError\u001b[0m: No module named 'lightgbm'"
     ]
    }
   ],
   "source": [
    "import pandas as pd\n",
    "import numpy as np\n",
    "import seaborn as sns\n",
    "import matplotlib.pyplot as plt\n",
    "import sklearn.utils\n",
    "import imblearn\n",
    "from sklearn.model_selection import train_test_split\n",
    "from sklearn.preprocessing import LabelEncoder\n",
    "from imblearn.over_sampling import SMOTE\n",
    "from sklearn.preprocessing import MinMaxScaler\n",
    "from sklearn.linear_model import LogisticRegression\n",
    "from sklearn.model_selection import cross_val_score, KFold, StratifiedKFold, LeaveOneOut, RandomizedSearchCV  \n",
    "from sklearn.metrics import recall_score, accuracy_score, precision_score, f1_score, confusion_matrix \n",
    "from sklearn.tree import DecisionTreeClassifier\n",
    "from sklearn.ensemble import ExtraTreesClassifier, RandomForestClassifier\n",
    "from xgboost import XGBClassifier\n",
    "from lightgbm import LGBMClassifier\n",
    "%matplotlib inline"
   ]
  },
  {
   "cell_type": "code",
   "execution_count": 5,
   "metadata": {},
   "outputs": [],
   "source": [
    "data_df = pd.read_csv( 'https://query.data.world/s/wh6j7rxy2hvrn4ml75ci62apk5hgae' )"
   ]
  },
  {
   "cell_type": "code",
   "execution_count": 10,
   "metadata": {},
   "outputs": [
    {
     "data": {
      "text/plain": [
       "3A    51473\n",
       "2A      240\n",
       "Name: QScore, dtype: int64"
      ]
     },
     "execution_count": 10,
     "metadata": {},
     "output_type": "execute_result"
    }
   ],
   "source": [
    "data_df['QScore'].value_counts()"
   ]
  },
  {
   "cell_type": "code",
   "execution_count": 7,
   "metadata": {},
   "outputs": [],
   "source": [
    "data_df.dropna(inplace = True)"
   ]
  },
  {
   "cell_type": "code",
   "execution_count": 9,
   "metadata": {},
   "outputs": [],
   "source": [
    "data_df['QScore']=data_df['QScore'].replace(['1A'], '2A')"
   ]
  },
  {
   "cell_type": "code",
   "execution_count": 12,
   "metadata": {},
   "outputs": [],
   "source": [
    "data_df2A = data_df[data_df['QScore']=='2A']\n",
    "data_df3A = data_df[data_df['QScore']=='3A'].sample(350)\n",
    "data_df = data_df2A.append(data_df3A)"
   ]
  },
  {
   "cell_type": "code",
   "execution_count": 15,
   "metadata": {},
   "outputs": [
    {
     "data": {
      "text/html": [
       "<div>\n",
       "<style scoped>\n",
       "    .dataframe tbody tr th:only-of-type {\n",
       "        vertical-align: middle;\n",
       "    }\n",
       "\n",
       "    .dataframe tbody tr th {\n",
       "        vertical-align: top;\n",
       "    }\n",
       "\n",
       "    .dataframe thead th {\n",
       "        text-align: right;\n",
       "    }\n",
       "</style>\n",
       "<table border=\"1\" class=\"dataframe\">\n",
       "  <thead>\n",
       "    <tr style=\"text-align: right;\">\n",
       "      <th></th>\n",
       "      <th>country</th>\n",
       "      <th>year</th>\n",
       "      <th>country_code</th>\n",
       "      <th>record</th>\n",
       "      <th>crop_land</th>\n",
       "      <th>grazing_land</th>\n",
       "      <th>forest_land</th>\n",
       "      <th>fishing_ground</th>\n",
       "      <th>built_up_land</th>\n",
       "      <th>carbon</th>\n",
       "      <th>total</th>\n",
       "      <th>QScore</th>\n",
       "    </tr>\n",
       "  </thead>\n",
       "  <tbody>\n",
       "    <tr>\n",
       "      <td>0</td>\n",
       "      <td>Georgia</td>\n",
       "      <td>2016</td>\n",
       "      <td>73</td>\n",
       "      <td>AreaTotHA</td>\n",
       "      <td>4.470572e+05</td>\n",
       "      <td>1.946943e+06</td>\n",
       "      <td>2822400</td>\n",
       "      <td>2.677000e+05</td>\n",
       "      <td>1.396570e+05</td>\n",
       "      <td>0.000000e+00</td>\n",
       "      <td>5.623757e+06</td>\n",
       "      <td>2A</td>\n",
       "    </tr>\n",
       "    <tr>\n",
       "      <td>1</td>\n",
       "      <td>Hungary</td>\n",
       "      <td>2016</td>\n",
       "      <td>97</td>\n",
       "      <td>EFConsTotGHA</td>\n",
       "      <td>6.264528e+06</td>\n",
       "      <td>6.039744e+05</td>\n",
       "      <td>3899932.798</td>\n",
       "      <td>2.034638e+05</td>\n",
       "      <td>1.559617e+06</td>\n",
       "      <td>2.269689e+07</td>\n",
       "      <td>3.522841e+07</td>\n",
       "      <td>2A</td>\n",
       "    </tr>\n",
       "    <tr>\n",
       "      <td>2</td>\n",
       "      <td>Nicaragua</td>\n",
       "      <td>1986</td>\n",
       "      <td>157</td>\n",
       "      <td>EFProdTotGHA</td>\n",
       "      <td>1.303620e+06</td>\n",
       "      <td>2.665690e+06</td>\n",
       "      <td>2326240.595</td>\n",
       "      <td>2.792917e+03</td>\n",
       "      <td>1.245713e+05</td>\n",
       "      <td>7.466585e+05</td>\n",
       "      <td>7.169574e+06</td>\n",
       "      <td>3A</td>\n",
       "    </tr>\n",
       "    <tr>\n",
       "      <td>3</td>\n",
       "      <td>Colombia</td>\n",
       "      <td>2015</td>\n",
       "      <td>44</td>\n",
       "      <td>AreaPerCap</td>\n",
       "      <td>7.453239e-02</td>\n",
       "      <td>8.515884e-01</td>\n",
       "      <td>1.213006798</td>\n",
       "      <td>1.629009e-01</td>\n",
       "      <td>2.833873e-02</td>\n",
       "      <td>0.000000e+00</td>\n",
       "      <td>2.330367e+00</td>\n",
       "      <td>3A</td>\n",
       "    </tr>\n",
       "    <tr>\n",
       "      <td>4</td>\n",
       "      <td>Canada</td>\n",
       "      <td>1975</td>\n",
       "      <td>33</td>\n",
       "      <td>EFProdTotGHA</td>\n",
       "      <td>5.342852e+07</td>\n",
       "      <td>1.206365e+07</td>\n",
       "      <td>82078397.52</td>\n",
       "      <td>1.051460e+07</td>\n",
       "      <td>8.048551e+05</td>\n",
       "      <td>1.410109e+08</td>\n",
       "      <td>2.999010e+08</td>\n",
       "      <td>3A</td>\n",
       "    </tr>\n",
       "  </tbody>\n",
       "</table>\n",
       "</div>"
      ],
      "text/plain": [
       "     country  year  country_code        record     crop_land  grazing_land  \\\n",
       "0    Georgia  2016            73     AreaTotHA  4.470572e+05  1.946943e+06   \n",
       "1    Hungary  2016            97  EFConsTotGHA  6.264528e+06  6.039744e+05   \n",
       "2  Nicaragua  1986           157  EFProdTotGHA  1.303620e+06  2.665690e+06   \n",
       "3   Colombia  2015            44    AreaPerCap  7.453239e-02  8.515884e-01   \n",
       "4     Canada  1975            33  EFProdTotGHA  5.342852e+07  1.206365e+07   \n",
       "\n",
       "   forest_land  fishing_ground  built_up_land        carbon         total  \\\n",
       "0      2822400    2.677000e+05   1.396570e+05  0.000000e+00  5.623757e+06   \n",
       "1  3899932.798    2.034638e+05   1.559617e+06  2.269689e+07  3.522841e+07   \n",
       "2  2326240.595    2.792917e+03   1.245713e+05  7.466585e+05  7.169574e+06   \n",
       "3  1.213006798    1.629009e-01   2.833873e-02  0.000000e+00  2.330367e+00   \n",
       "4  82078397.52    1.051460e+07   8.048551e+05  1.410109e+08  2.999010e+08   \n",
       "\n",
       "  QScore  \n",
       "0     2A  \n",
       "1     2A  \n",
       "2     3A  \n",
       "3     3A  \n",
       "4     3A  "
      ]
     },
     "execution_count": 15,
     "metadata": {},
     "output_type": "execute_result"
    }
   ],
   "source": [
    "data_df.head()"
   ]
  },
  {
   "cell_type": "code",
   "execution_count": 14,
   "metadata": {},
   "outputs": [
    {
     "data": {
      "text/plain": [
       "3A    350\n",
       "2A    240\n",
       "Name: QScore, dtype: int64"
      ]
     },
     "execution_count": 14,
     "metadata": {},
     "output_type": "execute_result"
    }
   ],
   "source": [
    "data_df = sklearn.utils.shuffle(data_df)\n",
    "data_df = data_df.reset_index(drop = True)\n",
    "data_df.QScore.value_counts()"
   ]
  },
  {
   "cell_type": "code",
   "execution_count": 50,
   "metadata": {},
   "outputs": [
    {
     "data": {
      "text/plain": [
       "record            0\n",
       "crop_land         0\n",
       "grazing_land      0\n",
       "forest_land       0\n",
       "fishing_ground    0\n",
       "built_up_land     0\n",
       "carbon            0\n",
       "total             0\n",
       "QScore            0\n",
       "dtype: int64"
      ]
     },
     "execution_count": 50,
     "metadata": {},
     "output_type": "execute_result"
    }
   ],
   "source": [
    "data_df.isnull().sum()"
   ]
  },
  {
   "cell_type": "code",
   "execution_count": 17,
   "metadata": {},
   "outputs": [
    {
     "data": {
      "text/html": [
       "<div>\n",
       "<style scoped>\n",
       "    .dataframe tbody tr th:only-of-type {\n",
       "        vertical-align: middle;\n",
       "    }\n",
       "\n",
       "    .dataframe tbody tr th {\n",
       "        vertical-align: top;\n",
       "    }\n",
       "\n",
       "    .dataframe thead th {\n",
       "        text-align: right;\n",
       "    }\n",
       "</style>\n",
       "<table border=\"1\" class=\"dataframe\">\n",
       "  <thead>\n",
       "    <tr style=\"text-align: right;\">\n",
       "      <th></th>\n",
       "      <th>country</th>\n",
       "      <th>year</th>\n",
       "      <th>country_code</th>\n",
       "      <th>record</th>\n",
       "      <th>crop_land</th>\n",
       "      <th>grazing_land</th>\n",
       "      <th>forest_land</th>\n",
       "      <th>fishing_ground</th>\n",
       "      <th>built_up_land</th>\n",
       "      <th>carbon</th>\n",
       "      <th>total</th>\n",
       "      <th>QScore</th>\n",
       "    </tr>\n",
       "  </thead>\n",
       "  <tbody>\n",
       "    <tr>\n",
       "      <td>0</td>\n",
       "      <td>Georgia</td>\n",
       "      <td>2016</td>\n",
       "      <td>73</td>\n",
       "      <td>AreaTotHA</td>\n",
       "      <td>4.470572e+05</td>\n",
       "      <td>1.946943e+06</td>\n",
       "      <td>2822400</td>\n",
       "      <td>2.677000e+05</td>\n",
       "      <td>1.396570e+05</td>\n",
       "      <td>0.000000e+00</td>\n",
       "      <td>5.623757e+06</td>\n",
       "      <td>2A</td>\n",
       "    </tr>\n",
       "    <tr>\n",
       "      <td>1</td>\n",
       "      <td>Hungary</td>\n",
       "      <td>2016</td>\n",
       "      <td>97</td>\n",
       "      <td>EFConsTotGHA</td>\n",
       "      <td>6.264528e+06</td>\n",
       "      <td>6.039744e+05</td>\n",
       "      <td>3899932.798</td>\n",
       "      <td>2.034638e+05</td>\n",
       "      <td>1.559617e+06</td>\n",
       "      <td>2.269689e+07</td>\n",
       "      <td>3.522841e+07</td>\n",
       "      <td>2A</td>\n",
       "    </tr>\n",
       "    <tr>\n",
       "      <td>2</td>\n",
       "      <td>Nicaragua</td>\n",
       "      <td>1986</td>\n",
       "      <td>157</td>\n",
       "      <td>EFProdTotGHA</td>\n",
       "      <td>1.303620e+06</td>\n",
       "      <td>2.665690e+06</td>\n",
       "      <td>2326240.595</td>\n",
       "      <td>2.792917e+03</td>\n",
       "      <td>1.245713e+05</td>\n",
       "      <td>7.466585e+05</td>\n",
       "      <td>7.169574e+06</td>\n",
       "      <td>3A</td>\n",
       "    </tr>\n",
       "    <tr>\n",
       "      <td>3</td>\n",
       "      <td>Colombia</td>\n",
       "      <td>2015</td>\n",
       "      <td>44</td>\n",
       "      <td>AreaPerCap</td>\n",
       "      <td>7.453239e-02</td>\n",
       "      <td>8.515884e-01</td>\n",
       "      <td>1.213006798</td>\n",
       "      <td>1.629009e-01</td>\n",
       "      <td>2.833873e-02</td>\n",
       "      <td>0.000000e+00</td>\n",
       "      <td>2.330367e+00</td>\n",
       "      <td>3A</td>\n",
       "    </tr>\n",
       "    <tr>\n",
       "      <td>4</td>\n",
       "      <td>Canada</td>\n",
       "      <td>1975</td>\n",
       "      <td>33</td>\n",
       "      <td>EFProdTotGHA</td>\n",
       "      <td>5.342852e+07</td>\n",
       "      <td>1.206365e+07</td>\n",
       "      <td>82078397.52</td>\n",
       "      <td>1.051460e+07</td>\n",
       "      <td>8.048551e+05</td>\n",
       "      <td>1.410109e+08</td>\n",
       "      <td>2.999010e+08</td>\n",
       "      <td>3A</td>\n",
       "    </tr>\n",
       "    <tr>\n",
       "      <td>...</td>\n",
       "      <td>...</td>\n",
       "      <td>...</td>\n",
       "      <td>...</td>\n",
       "      <td>...</td>\n",
       "      <td>...</td>\n",
       "      <td>...</td>\n",
       "      <td>...</td>\n",
       "      <td>...</td>\n",
       "      <td>...</td>\n",
       "      <td>...</td>\n",
       "      <td>...</td>\n",
       "      <td>...</td>\n",
       "    </tr>\n",
       "    <tr>\n",
       "      <td>585</td>\n",
       "      <td>Montenegro</td>\n",
       "      <td>2015</td>\n",
       "      <td>273</td>\n",
       "      <td>EFProdPerCap</td>\n",
       "      <td>6.088749e-02</td>\n",
       "      <td>1.100655e-01</td>\n",
       "      <td>0.720174</td>\n",
       "      <td>7.739580e-03</td>\n",
       "      <td>3.727246e-02</td>\n",
       "      <td>1.309918e+00</td>\n",
       "      <td>2.246057e+00</td>\n",
       "      <td>3A</td>\n",
       "    </tr>\n",
       "    <tr>\n",
       "      <td>586</td>\n",
       "      <td>Cuba</td>\n",
       "      <td>1995</td>\n",
       "      <td>49</td>\n",
       "      <td>AreaTotHA</td>\n",
       "      <td>4.047929e+06</td>\n",
       "      <td>2.636071e+06</td>\n",
       "      <td>2246500</td>\n",
       "      <td>5.737800e+06</td>\n",
       "      <td>3.256930e+05</td>\n",
       "      <td>0.000000e+00</td>\n",
       "      <td>1.499399e+07</td>\n",
       "      <td>3A</td>\n",
       "    </tr>\n",
       "    <tr>\n",
       "      <td>587</td>\n",
       "      <td>Djibouti</td>\n",
       "      <td>2016</td>\n",
       "      <td>72</td>\n",
       "      <td>AreaTotHA</td>\n",
       "      <td>2.000000e+03</td>\n",
       "      <td>1.700000e+06</td>\n",
       "      <td>5600</td>\n",
       "      <td>2.305000e+05</td>\n",
       "      <td>2.495080e+04</td>\n",
       "      <td>0.000000e+00</td>\n",
       "      <td>1.963051e+06</td>\n",
       "      <td>2A</td>\n",
       "    </tr>\n",
       "    <tr>\n",
       "      <td>588</td>\n",
       "      <td>Iraq</td>\n",
       "      <td>2016</td>\n",
       "      <td>103</td>\n",
       "      <td>AreaPerCap</td>\n",
       "      <td>1.424632e-01</td>\n",
       "      <td>1.075194e-01</td>\n",
       "      <td>0.022175868</td>\n",
       "      <td>3.456748e-03</td>\n",
       "      <td>3.237784e-02</td>\n",
       "      <td>0.000000e+00</td>\n",
       "      <td>3.079930e-01</td>\n",
       "      <td>2A</td>\n",
       "    </tr>\n",
       "    <tr>\n",
       "      <td>589</td>\n",
       "      <td>Iraq</td>\n",
       "      <td>2016</td>\n",
       "      <td>103</td>\n",
       "      <td>EFProdTotGHA</td>\n",
       "      <td>4.605966e+06</td>\n",
       "      <td>6.261233e+05</td>\n",
       "      <td>86606.15132</td>\n",
       "      <td>4.669087e+04</td>\n",
       "      <td>1.046806e+06</td>\n",
       "      <td>4.924412e+07</td>\n",
       "      <td>5.565631e+07</td>\n",
       "      <td>2A</td>\n",
       "    </tr>\n",
       "  </tbody>\n",
       "</table>\n",
       "<p>590 rows × 12 columns</p>\n",
       "</div>"
      ],
      "text/plain": [
       "        country  year  country_code        record     crop_land  grazing_land  \\\n",
       "0       Georgia  2016            73     AreaTotHA  4.470572e+05  1.946943e+06   \n",
       "1       Hungary  2016            97  EFConsTotGHA  6.264528e+06  6.039744e+05   \n",
       "2     Nicaragua  1986           157  EFProdTotGHA  1.303620e+06  2.665690e+06   \n",
       "3      Colombia  2015            44    AreaPerCap  7.453239e-02  8.515884e-01   \n",
       "4        Canada  1975            33  EFProdTotGHA  5.342852e+07  1.206365e+07   \n",
       "..          ...   ...           ...           ...           ...           ...   \n",
       "585  Montenegro  2015           273  EFProdPerCap  6.088749e-02  1.100655e-01   \n",
       "586        Cuba  1995            49     AreaTotHA  4.047929e+06  2.636071e+06   \n",
       "587    Djibouti  2016            72     AreaTotHA  2.000000e+03  1.700000e+06   \n",
       "588        Iraq  2016           103    AreaPerCap  1.424632e-01  1.075194e-01   \n",
       "589        Iraq  2016           103  EFProdTotGHA  4.605966e+06  6.261233e+05   \n",
       "\n",
       "     forest_land  fishing_ground  built_up_land        carbon         total  \\\n",
       "0        2822400    2.677000e+05   1.396570e+05  0.000000e+00  5.623757e+06   \n",
       "1    3899932.798    2.034638e+05   1.559617e+06  2.269689e+07  3.522841e+07   \n",
       "2    2326240.595    2.792917e+03   1.245713e+05  7.466585e+05  7.169574e+06   \n",
       "3    1.213006798    1.629009e-01   2.833873e-02  0.000000e+00  2.330367e+00   \n",
       "4    82078397.52    1.051460e+07   8.048551e+05  1.410109e+08  2.999010e+08   \n",
       "..           ...             ...            ...           ...           ...   \n",
       "585     0.720174    7.739580e-03   3.727246e-02  1.309918e+00  2.246057e+00   \n",
       "586      2246500    5.737800e+06   3.256930e+05  0.000000e+00  1.499399e+07   \n",
       "587         5600    2.305000e+05   2.495080e+04  0.000000e+00  1.963051e+06   \n",
       "588  0.022175868    3.456748e-03   3.237784e-02  0.000000e+00  3.079930e-01   \n",
       "589  86606.15132    4.669087e+04   1.046806e+06  4.924412e+07  5.565631e+07   \n",
       "\n",
       "    QScore  \n",
       "0       2A  \n",
       "1       2A  \n",
       "2       3A  \n",
       "3       3A  \n",
       "4       3A  \n",
       "..     ...  \n",
       "585     3A  \n",
       "586     3A  \n",
       "587     2A  \n",
       "588     2A  \n",
       "589     2A  \n",
       "\n",
       "[590 rows x 12 columns]"
      ]
     },
     "execution_count": 17,
     "metadata": {},
     "output_type": "execute_result"
    }
   ],
   "source": []
  },
  {
   "cell_type": "code",
   "execution_count": 18,
   "metadata": {},
   "outputs": [],
   "source": [
    "data_df.drop(columns = ['country_code', 'country', 'year'], inplace = True)"
   ]
  },
  {
   "cell_type": "code",
   "execution_count": 79,
   "metadata": {},
   "outputs": [],
   "source": [
    "X_train, X_test, y_train, y_test = train_test_split(data_df.drop(columns = 'QScore'), data_df.QScore, test_size = 0.3, random_state = 0)"
   ]
  },
  {
   "cell_type": "code",
   "execution_count": 80,
   "metadata": {},
   "outputs": [
    {
     "data": {
      "text/plain": [
       "(3A    251\n",
       " 2A    162\n",
       " Name: QScore, dtype: int64, 3A    99\n",
       " 2A    78\n",
       " Name: QScore, dtype: int64)"
      ]
     },
     "execution_count": 80,
     "metadata": {},
     "output_type": "execute_result"
    }
   ],
   "source": [
    "y_train.value_counts(), y_test.value_counts()"
   ]
  },
  {
   "cell_type": "code",
   "execution_count": 81,
   "metadata": {},
   "outputs": [],
   "source": [
    "encoder = LabelEncoder()\n",
    "X_train.record = encoder.fit_transform(X_train.record)\n",
    "X_test.record = encoder.transform(X_test.record)"
   ]
  },
  {
   "cell_type": "code",
   "execution_count": 82,
   "metadata": {},
   "outputs": [],
   "source": [
    "smote = SMOTE(random_state = 1)\n",
    "X_train_balanced, y_train_balanced = smote.fit_sample(X_train, y_train)"
   ]
  },
  {
   "cell_type": "code",
   "execution_count": 83,
   "metadata": {},
   "outputs": [
    {
     "data": {
      "text/plain": [
       "3A    251\n",
       "2A    251\n",
       "Name: QScore, dtype: int64"
      ]
     },
     "execution_count": 83,
     "metadata": {},
     "output_type": "execute_result"
    }
   ],
   "source": [
    "y_train_balanced.value_counts()"
   ]
  },
  {
   "cell_type": "code",
   "execution_count": 84,
   "metadata": {},
   "outputs": [
    {
     "data": {
      "text/plain": [
       "0"
      ]
     },
     "execution_count": 84,
     "metadata": {},
     "output_type": "execute_result"
    }
   ],
   "source": [
    "y_test.isnull().sum()"
   ]
  },
  {
   "cell_type": "code",
   "execution_count": 85,
   "metadata": {},
   "outputs": [
    {
     "data": {
      "text/plain": [
       "3A    251\n",
       "2A    162\n",
       "Name: QScore, dtype: int64"
      ]
     },
     "execution_count": 85,
     "metadata": {},
     "output_type": "execute_result"
    }
   ],
   "source": [
    "y_train.value_counts()"
   ]
  },
  {
   "cell_type": "code",
   "execution_count": 86,
   "metadata": {},
   "outputs": [
    {
     "data": {
      "text/html": [
       "<div>\n",
       "<style scoped>\n",
       "    .dataframe tbody tr th:only-of-type {\n",
       "        vertical-align: middle;\n",
       "    }\n",
       "\n",
       "    .dataframe tbody tr th {\n",
       "        vertical-align: top;\n",
       "    }\n",
       "\n",
       "    .dataframe thead th {\n",
       "        text-align: right;\n",
       "    }\n",
       "</style>\n",
       "<table border=\"1\" class=\"dataframe\">\n",
       "  <thead>\n",
       "    <tr style=\"text-align: right;\">\n",
       "      <th></th>\n",
       "      <th>crop_land</th>\n",
       "      <th>grazing_land</th>\n",
       "      <th>forest_land</th>\n",
       "      <th>fishing_ground</th>\n",
       "      <th>built_up_land</th>\n",
       "      <th>carbon</th>\n",
       "      <th>total</th>\n",
       "      <th>record</th>\n",
       "    </tr>\n",
       "  </thead>\n",
       "  <tbody>\n",
       "    <tr>\n",
       "      <td>0</td>\n",
       "      <td>1.030634e-09</td>\n",
       "      <td>1.743366e-09</td>\n",
       "      <td>3.516377e-09</td>\n",
       "      <td>1.677543e-09</td>\n",
       "      <td>2.730936e-10</td>\n",
       "      <td>1.897582e-11</td>\n",
       "      <td>5.816242e-10</td>\n",
       "      <td>4</td>\n",
       "    </tr>\n",
       "    <tr>\n",
       "      <td>1</td>\n",
       "      <td>2.922600e-10</td>\n",
       "      <td>4.524460e-08</td>\n",
       "      <td>2.521384e-08</td>\n",
       "      <td>1.229333e-09</td>\n",
       "      <td>4.372915e-10</td>\n",
       "      <td>0.000000e+00</td>\n",
       "      <td>4.021844e-09</td>\n",
       "      <td>2</td>\n",
       "    </tr>\n",
       "    <tr>\n",
       "      <td>2</td>\n",
       "      <td>5.401644e-04</td>\n",
       "      <td>5.173060e-03</td>\n",
       "      <td>1.195259e-03</td>\n",
       "      <td>2.708644e-04</td>\n",
       "      <td>1.122876e-04</td>\n",
       "      <td>3.476760e-04</td>\n",
       "      <td>6.638164e-04</td>\n",
       "      <td>5</td>\n",
       "    </tr>\n",
       "    <tr>\n",
       "      <td>3</td>\n",
       "      <td>4.769046e-10</td>\n",
       "      <td>3.184285e-09</td>\n",
       "      <td>2.070291e-09</td>\n",
       "      <td>2.090118e-09</td>\n",
       "      <td>1.767847e-10</td>\n",
       "      <td>2.776500e-10</td>\n",
       "      <td>6.231933e-10</td>\n",
       "      <td>6</td>\n",
       "    </tr>\n",
       "    <tr>\n",
       "      <td>4</td>\n",
       "      <td>1.328665e-10</td>\n",
       "      <td>5.368281e-10</td>\n",
       "      <td>7.255780e-09</td>\n",
       "      <td>5.885060e-09</td>\n",
       "      <td>1.650810e-10</td>\n",
       "      <td>0.000000e+00</td>\n",
       "      <td>7.331758e-10</td>\n",
       "      <td>2</td>\n",
       "    </tr>\n",
       "  </tbody>\n",
       "</table>\n",
       "</div>"
      ],
      "text/plain": [
       "      crop_land  grazing_land   forest_land  fishing_ground  built_up_land  \\\n",
       "0  1.030634e-09  1.743366e-09  3.516377e-09    1.677543e-09   2.730936e-10   \n",
       "1  2.922600e-10  4.524460e-08  2.521384e-08    1.229333e-09   4.372915e-10   \n",
       "2  5.401644e-04  5.173060e-03  1.195259e-03    2.708644e-04   1.122876e-04   \n",
       "3  4.769046e-10  3.184285e-09  2.070291e-09    2.090118e-09   1.767847e-10   \n",
       "4  1.328665e-10  5.368281e-10  7.255780e-09    5.885060e-09   1.650810e-10   \n",
       "\n",
       "         carbon         total  record  \n",
       "0  1.897582e-11  5.816242e-10       4  \n",
       "1  0.000000e+00  4.021844e-09       2  \n",
       "2  3.476760e-04  6.638164e-04       5  \n",
       "3  2.776500e-10  6.231933e-10       6  \n",
       "4  0.000000e+00  7.331758e-10       2  "
      ]
     },
     "execution_count": 86,
     "metadata": {},
     "output_type": "execute_result"
    }
   ],
   "source": [
    "scaler = MinMaxScaler()\n",
    "normalised_train_df = scaler.fit_transform(X_train_balanced.drop(columns = ['record']))\n",
    "normalised_train_df = pd.DataFrame(normalised_train_df, columns = X_train_balanced.drop(columns = ['record']).columns)\n",
    "normalised_train_df['record'] = X_train_balanced['record']\n",
    "normalised_train_df.head()"
   ]
  },
  {
   "cell_type": "code",
   "execution_count": 87,
   "metadata": {},
   "outputs": [],
   "source": [
    "X_test = X_test.reset_index(drop = True)\n",
    "normalised_test_df = scaler.fit_transform(X_test.drop(columns = ['record']))\n",
    "normalised_test_df = pd.DataFrame(normalised_test_df, columns = X_test.drop(columns = ['record']).columns)\n",
    "normalised_test_df['record'] = X_test.record"
   ]
  },
  {
   "cell_type": "code",
   "execution_count": 88,
   "metadata": {},
   "outputs": [
    {
     "data": {
      "text/plain": [
       "LogisticRegression()"
      ]
     },
     "execution_count": 88,
     "metadata": {},
     "output_type": "execute_result"
    }
   ],
   "source": [
    "log_reg = LogisticRegression()\n",
    "log_reg.fit(normalised_train_df, y_train_balanced)"
   ]
  },
  {
   "cell_type": "code",
   "execution_count": 46,
   "metadata": {},
   "outputs": [
    {
     "data": {
      "text/plain": [
       "array([0.52779221, 0.55453087, 0.56892231, 0.52616191, 0.50980392])"
      ]
     },
     "execution_count": 46,
     "metadata": {},
     "output_type": "execute_result"
    }
   ],
   "source": [
    "scores = cross_val_score(log_reg, normalised_train_df, y_train_balanced, cv= 5 , scoring= 'f1_macro' )\n",
    "scores\n",
    "#prints"
   ]
  },
  {
   "cell_type": "code",
   "execution_count": 89,
   "metadata": {},
   "outputs": [
    {
     "data": {
      "text/plain": [
       "array([[75,  3],\n",
       "       [82, 17]], dtype=int64)"
      ]
     },
     "execution_count": 89,
     "metadata": {},
     "output_type": "execute_result"
    }
   ],
   "source": [
    "new_predictions = log_reg.predict(normalised_test_df)\n",
    "cnf_mat = confusion_matrix(y_true=y_test, y_pred=new_predictions, labels=['2A', '3A'])\n",
    "cnf_mat"
   ]
  },
  {
   "cell_type": "code",
   "execution_count": 90,
   "metadata": {},
   "outputs": [
    {
     "name": "stdout",
     "output_type": "stream",
     "text": [
      "Accuracy: 52.0\n"
     ]
    }
   ],
   "source": [
    "accuracy = accuracy_score(y_true=y_test, y_pred=new_predictions)\n",
    "print('Accuracy: {}'.format(round(accuracy*100), 2))"
   ]
  },
  {
   "cell_type": "code",
   "execution_count": 91,
   "metadata": {},
   "outputs": [
    {
     "name": "stdout",
     "output_type": "stream",
     "text": [
      "F1: 64.0\n"
     ]
    }
   ],
   "source": [
    "f1 = f1_score(y_true=y_test, y_pred=new_predictions, pos_label='2A')\n",
    "print('F1: {}'.format(round(f1*100), 2))"
   ]
  },
  {
   "cell_type": "code",
   "execution_count": 97,
   "metadata": {},
   "outputs": [
    {
     "name": "stdout",
     "output_type": "stream",
     "text": [
      "Precision: 48.0\n"
     ]
    }
   ],
   "source": [
    "precision = precision_score(y_true=y_test, y_pred=new_predictions, pos_label='2A')\n",
    "print('Precision: {}'.format(round(precision*100), 2)) "
   ]
  },
  {
   "cell_type": "code",
   "execution_count": 94,
   "metadata": {},
   "outputs": [
    {
     "name": "stdout",
     "output_type": "stream",
     "text": [
      "Recall: 17.0\n"
     ]
    }
   ],
   "source": [
    "recall = recall_score(y_true=y_test, y_pred=new_predictions, pos_label='3A')\n",
    "print('Recall: {}'.format(round(recall*100), 2))"
   ]
  },
  {
   "cell_type": "code",
   "execution_count": 95,
   "metadata": {},
   "outputs": [
    {
     "data": {
      "text/plain": [
       "0.1717171717171717"
      ]
     },
     "execution_count": 95,
     "metadata": {},
     "output_type": "execute_result"
    }
   ],
   "source": [
    "17/(17+82)"
   ]
  },
  {
   "cell_type": "code",
   "execution_count": 72,
   "metadata": {},
   "outputs": [
    {
     "data": {
      "text/plain": [
       "[54.687500000000014,\n",
       " 48.33333333333334,\n",
       " 55.28455284552846,\n",
       " 58.823529411764696,\n",
       " 0.0]"
      ]
     },
     "execution_count": 72,
     "metadata": {},
     "output_type": "execute_result"
    }
   ],
   "source": [
    "kf = KFold(n_splits=5)\n",
    "kf.split(normalised_train_df) \n",
    "f1_scores = []\n",
    "#run for every split\n",
    "for train_index, test_index in kf.split(normalised_train_df):\n",
    "    x_train, x_test = normalised_train_df.iloc[train_index], normalised_train_df.iloc[test_index]\n",
    "    y_train, y_test = y_train_balanced[train_index], y_train_balanced[test_index]\n",
    "    model = LogisticRegression().fit(x_train, y_train)\n",
    "  #save result to list\n",
    "    f1_scores.append(f1_score(y_test, model.predict(x_test), \n",
    "                   pos_label='2A')*100)\n",
    "f1_scores"
   ]
  },
  {
   "cell_type": "code",
   "execution_count": 75,
   "metadata": {},
   "outputs": [
    {
     "data": {
      "text/plain": [
       "[0.6212121212121212,\n",
       " 0.5283018867924528,\n",
       " 0.5050505050505051,\n",
       " 0.5663716814159292,\n",
       " 0.576]"
      ]
     },
     "execution_count": 75,
     "metadata": {},
     "output_type": "execute_result"
    }
   ],
   "source": [
    "skf = StratifiedKFold(n_splits=5, shuffle=True, random_state=1)\n",
    "f1_scores = []\n",
    "#run for every split\n",
    "for train_index, test_index in skf.split(normalised_train_df, y_train_balanced):\n",
    "    x_train, x_test = np.array(normalised_train_df)[train_index], np.array(normalised_train_df)[test_index]\n",
    "    y_train, y_test  = y_train_balanced[train_index], y_train_balanced[test_index]\n",
    "    model = LogisticRegression().fit(x_train, y_train)\n",
    "  #save result to list\n",
    "    f1_scores.append(f1_score(y_true=y_test, y_pred=model.predict(x_test), pos_label='2A'))\n",
    "f1_scores"
   ]
  },
  {
   "cell_type": "code",
   "execution_count": 77,
   "metadata": {},
   "outputs": [],
   "source": [
    "loo = LeaveOneOut()\n",
    "scores = cross_val_score(LogisticRegression(), normalised_train_df, y_train_balanced, cv=loo, \n",
    "                         scoring='f1_macro')\n",
    "average_score = scores.mean() * 100"
   ]
  },
  {
   "cell_type": "code",
   "execution_count": 78,
   "metadata": {},
   "outputs": [
    {
     "data": {
      "text/plain": [
       "51.39442231075697"
      ]
     },
     "execution_count": 78,
     "metadata": {},
     "output_type": "execute_result"
    }
   ],
   "source": [
    "average_score"
   ]
  },
  {
   "cell_type": "code",
   "execution_count": 99,
   "metadata": {},
   "outputs": [
    {
     "data": {
      "text/plain": [
       "DecisionTreeClassifier()"
      ]
     },
     "execution_count": 99,
     "metadata": {},
     "output_type": "execute_result"
    }
   ],
   "source": [
    "dec_tree = DecisionTreeClassifier()\n",
    "dec_tree.fit(normalised_train_df, y_train_balanced)"
   ]
  },
  {
   "cell_type": "code",
   "execution_count": null,
   "metadata": {},
   "outputs": [],
   "source": []
  }
 ],
 "metadata": {
  "kernelspec": {
   "display_name": "Python 3",
   "language": "python",
   "name": "python3"
  },
  "language_info": {
   "codemirror_mode": {
    "name": "ipython",
    "version": 3
   },
   "file_extension": ".py",
   "mimetype": "text/x-python",
   "name": "python",
   "nbconvert_exporter": "python",
   "pygments_lexer": "ipython3",
   "version": "3.7.4"
  }
 },
 "nbformat": 4,
 "nbformat_minor": 2
}
