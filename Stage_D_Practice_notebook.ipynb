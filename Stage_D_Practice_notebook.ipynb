{
  "nbformat": 4,
  "nbformat_minor": 0,
  "metadata": {
    "colab": {
      "name": "Stage D Practice notebook.ipynb",
      "provenance": [],
      "authorship_tag": "ABX9TyMwK0iBTA+YTUjjexEcyXQr"
    },
    "kernelspec": {
      "name": "python3",
      "display_name": "Python 3"
    }
  },
  "cells": [
    {
      "cell_type": "code",
      "metadata": {
        "id": "xZiRsbOGBpmR",
        "colab_type": "code",
        "colab": {}
      },
      "source": [
        "import numpy as np\n",
        "import matplotlib.pyplot as plt\n",
        "import tensorflow as tf\n",
        "import tensorflow.compat.v1 as tf\n",
        "from tensorflow import keras\n",
        "tf.compat.v1.disable_eager_execution()"
      ],
      "execution_count": null,
      "outputs": []
    },
    {
      "cell_type": "code",
      "metadata": {
        "id": "dq78Em8-Bz5I",
        "colab_type": "code",
        "colab": {
          "base_uri": "https://localhost:8080/",
          "height": 51
        },
        "outputId": "3983587d-7ac2-4a47-e185-325cf4ed320e"
      },
      "source": [
        "mnist = keras.datasets.mnist\n",
        "(train_images, train_labels), (test_images, test_labels) = mnist.load_data()\n",
        "\n",
        "print(\"Training data: {}, {}\".format(train_images.shape, train_labels.shape))\n",
        "# prints Training data: (60000, 28, 28), (60000,)\n",
        "print(\"Test data: {}, {}\".format(test_images.shape, test_labels.shape))"
      ],
      "execution_count": null,
      "outputs": [
        {
          "output_type": "stream",
          "text": [
            "Training data: (60000, 28, 28), (60000,)\n",
            "Test data: (10000, 28, 28), (10000,)\n"
          ],
          "name": "stdout"
        }
      ]
    },
    {
      "cell_type": "code",
      "metadata": {
        "id": "0YECL2QmB6zG",
        "colab_type": "code",
        "colab": {
          "base_uri": "https://localhost:8080/",
          "height": 34
        },
        "outputId": "346ca9a8-3d18-42c8-e35f-9f5556282a78"
      },
      "source": [
        "class_labels = np.unique(train_labels)\n",
        "print(\"There are {} classes in the dataset. They are: {}\".format(len(class_labels), class_labels))"
      ],
      "execution_count": null,
      "outputs": [
        {
          "output_type": "stream",
          "text": [
            "There are 10 classes in the dataset. They are: [0 1 2 3 4 5 6 7 8 9]\n"
          ],
          "name": "stdout"
        }
      ]
    },
    {
      "cell_type": "code",
      "metadata": {
        "id": "WvlOU9_5B8eH",
        "colab_type": "code",
        "colab": {
          "base_uri": "https://localhost:8080/",
          "height": 195
        },
        "outputId": "e8143558-1f8d-407a-f785-8bc9bee75de3"
      },
      "source": [
        "plt.figure(figsize=(8, 5))\n",
        "\n",
        "plt.subplot(1,3,1)\n",
        "plt.imshow(train_images[0])\n",
        "plt.title(\"Label: {}\".format(train_labels[0]))\n",
        "\n",
        "plt.subplot(1,3,2)\n",
        "plt.imshow(train_images[2500])\n",
        "plt.title(\"Label: {}\".format(train_labels[2500]))\n",
        "\n",
        "plt.subplot(1,3,3)\n",
        "plt.imshow(test_images[12])\n",
        "\n",
        "plt.show()"
      ],
      "execution_count": null,
      "outputs": [
        {
          "output_type": "display_data",
          "data": {
            "image/png": "[encoded data removed]",
            "text/plain": [
              "<Figure size 576x360 with 3 Axes>"
            ]
          },
          "metadata": {
            "tags": [],
            "needs_background": "light"
          }
        }
      ]
    },
    {
      "cell_type": "code",
      "metadata": {
        "id": "5qZSb27lB-F8",
        "colab_type": "code",
        "colab": {}
      },
      "source": [
        "train_images = train_images / 255.0\n",
        "test_images = test_images / 255.0"
      ],
      "execution_count": null,
      "outputs": []
    },
    {
      "cell_type": "code",
      "metadata": {
        "id": "L4OLnSTUB_5s",
        "colab_type": "code",
        "colab": {
          "base_uri": "https://localhost:8080/",
          "height": 85
        },
        "outputId": "6439589c-50d1-4cbe-bf87-cde047c6fde7"
      },
      "source": [
        "x_train = train_images[0:50000]\n",
        "x_val = train_images[50000:]\n",
        "y_train = train_labels[0:50000]\n",
        "y_val = train_labels[50000:]\n",
        "\n",
        "print(\"x_train: {}\".format(x_train.shape)) # prints x_train: (50000, 28, 28)\n",
        "print(\"x_val: {}\".format(x_val.shape)) # prints x_val: (10000, 28, 28)\n",
        "print(\"y_train: {}\".format(y_train.shape)) #prints y_train: (50000,)\n",
        "print(\"y_val: {}\".format(y_val.shape)) #prints y_val: (10000,)"
      ],
      "execution_count": null,
      "outputs": [
        {
          "output_type": "stream",
          "text": [
            "x_train: (50000, 28, 28)\n",
            "x_val: (10000, 28, 28)\n",
            "y_train: (50000,)\n",
            "y_val: (10000,)\n"
          ],
          "name": "stdout"
        }
      ]
    },
    {
      "cell_type": "code",
      "metadata": {
        "id": "4ji6dxeZCBdd",
        "colab_type": "code",
        "colab": {
          "base_uri": "https://localhost:8080/",
          "height": 68
        },
        "outputId": "a9f0bde8-ac15-467c-d750-1a49408221e1"
      },
      "source": [
        "new_dimension = np.prod(train_images.shape[1:])\n",
        "x_train = x_train.reshape(x_train.shape[0], new_dimension)\n",
        "x_val = x_val.reshape(x_val.shape[0], new_dimension)\n",
        "test_images = test_images.reshape(test_images.shape[0], new_dimension)\n",
        "\n",
        "print(\"x_train: {}\".format(x_train.shape)) #prints  x_train: (50000, 784)\n",
        "print(\"x_val: {}\".format(x_val.shape)) #prints x_val: (10000, 784)\n",
        "print(\"test_images: {}\".format(test_images.shape)) #prints test_images: (10000, 784)\n"
      ],
      "execution_count": null,
      "outputs": [
        {
          "output_type": "stream",
          "text": [
            "x_train: (50000, 784)\n",
            "x_val: (10000, 784)\n",
            "test_images: (10000, 784)\n"
          ],
          "name": "stdout"
        }
      ]
    },
    {
      "cell_type": "code",
      "metadata": {
        "id": "3q-DTL3CCC0L",
        "colab_type": "code",
        "colab": {}
      },
      "source": [
        "from tensorflow.keras.utils import to_categorical\n",
        "no_labels = 10\n",
        "y_train = to_categorical(y_train, no_labels)\n",
        "y_val = to_categorical(y_val, no_labels)\n",
        "y_test = to_categorical(test_labels, no_labels)"
      ],
      "execution_count": null,
      "outputs": []
    },
    {
      "cell_type": "code",
      "metadata": {
        "id": "6QJQJmvDCEtN",
        "colab_type": "code",
        "colab": {}
      },
      "source": [
        "X = tf.placeholder(tf.float32, [None, new_dimension])\n",
        "Y = tf.placeholder(tf.float32, [None, no_labels])"
      ],
      "execution_count": null,
      "outputs": []
    },
    {
      "cell_type": "code",
      "metadata": {
        "id": "K5X3XLYaCGp0",
        "colab_type": "code",
        "colab": {}
      },
      "source": [
        "def multilayer_perceptron(x, no_classes, first_layer_neurons=256, second_layer_neurons=128):\n",
        "  # first layer\n",
        "  first_weight = tf.Variable(tf.random_uniform([new_dimension, first_layer_neurons]))\n",
        "  first_bias = tf.Variable(tf.zeros([first_layer_neurons]))\n",
        "  first_layer_output = tf.nn.relu(tf.add(tf.matmul(x, first_weight), first_bias))\n",
        "\n",
        "  # second layer\n",
        "  second_weight = tf.Variable(tf.random_uniform([first_layer_neurons,second_layer_neurons]))\n",
        "  second_bias = tf.Variable(tf.zeros([second_layer_neurons]))\n",
        "  second_layer_output = tf.nn.relu(tf.add(tf.matmul(first_layer_output, second_weight), \n",
        "                                          second_bias))\n",
        "\n",
        "  # output layer\n",
        "  final_weight = tf.Variable(tf.random_uniform([second_layer_neurons, no_classes]))\n",
        "  final_bias = tf.Variable(tf.zeros([no_classes]))\n",
        "  logits = tf.add(tf.matmul(second_layer_output, final_weight), final_bias)\n",
        "\n",
        "  return logits"
      ],
      "execution_count": null,
      "outputs": []
    },
    {
      "cell_type": "code",
      "metadata": {
        "id": "bsWDaFPOCISZ",
        "colab_type": "code",
        "colab": {}
      },
      "source": [
        "init = tf.global_variables_initializer()\n",
        "\n",
        "epochs = 20\n",
        "batch_size = 1000\n",
        "iteration = len(x_train) // batch_size"
      ],
      "execution_count": null,
      "outputs": []
    },
    {
      "cell_type": "code",
      "metadata": {
        "id": "iExUbHU8CbXx",
        "colab_type": "code",
        "colab": {}
      },
      "source": [
        "logits = multilayer_perceptron(X, no_labels)\n",
        "\n",
        "learning_rate = 0.01\n",
        "#we define the loss and optimiser for the network\n",
        "loss_op = tf.reduce_mean(tf.nn.softmax_cross_entropy_with_logits(logits=logits, labels=Y))\n",
        "optimiser = tf.train.AdamOptimizer(learning_rate=learning_rate)\n",
        "train_op = optimiser.minimize(loss_op)"
      ],
      "execution_count": null,
      "outputs": []
    },
    {
      "cell_type": "code",
      "metadata": {
        "id": "W8R2XMo_CMFH",
        "colab_type": "code",
        "colab": {
          "base_uri": "https://localhost:8080/",
          "height": 1000
        },
        "outputId": "efb0395a-8834-4e3c-a2d8-9155e5940f7b"
      },
      "source": [
        "with tf.Session() as session:\n",
        "  session.run(init)\n",
        "  for epoch in range(epochs):\n",
        "    average_cost = 0\n",
        "    start, end = 0, batch_size\n",
        "\n",
        "    for i in range(iteration):\n",
        "      batch_x, batch_y = x_train[start: end], y_train[start: end]\n",
        "      _, loss = session.run([train_op, loss_op], feed_dict={X: batch_x, Y: batch_y})\n",
        "      start += batch_size\n",
        "      end += batch_size \n",
        "      #average loss\n",
        "      average_cost += loss/iteration\n",
        "    print(\"Epoch========{}\".format(epoch))\n",
        "  prediction = tf.nn.softmax(logits)\n",
        "  ground_truth = tf.equal(tf.argmax(prediction, 1), tf.argmax(Y, 1))\n",
        "  accuracy = tf.reduce_mean(tf.cast(ground_truth, \"float\"))\n",
        "  print(\"Accuracy: {}\".format(accuracy.eval({X: test_images, Y: y_test})))\n"
      ],
      "execution_count": null,
      "outputs": [
        {
          "output_type": "error",
          "ename": "FailedPreconditionError",
          "evalue": "ignored",
          "traceback": [
            "\u001b[0;31m---------------------------------------------------------------------------\u001b[0m",
            "\u001b[0;31mFailedPreconditionError\u001b[0m                   Traceback (most recent call last)",
            "\u001b[0;32m/usr/local/lib/python3.6/dist-packages/tensorflow/python/client/session.py\u001b[0m in \u001b[0;36m_do_call\u001b[0;34m(self, fn, *args)\u001b[0m\n\u001b[1;32m   1364\u001b[0m     \u001b[0;32mtry\u001b[0m\u001b[0;34m:\u001b[0m\u001b[0;34m\u001b[0m\u001b[0;34m\u001b[0m\u001b[0m\n\u001b[0;32m-> 1365\u001b[0;31m       \u001b[0;32mreturn\u001b[0m \u001b[0mfn\u001b[0m\u001b[0;34m(\u001b[0m\u001b[0;34m*\u001b[0m\u001b[0margs\u001b[0m\u001b[0;34m)\u001b[0m\u001b[0;34m\u001b[0m\u001b[0;34m\u001b[0m\u001b[0m\n\u001b[0m\u001b[1;32m   1366\u001b[0m     \u001b[0;32mexcept\u001b[0m \u001b[0merrors\u001b[0m\u001b[0;34m.\u001b[0m\u001b[0mOpError\u001b[0m \u001b[0;32mas\u001b[0m \u001b[0me\u001b[0m\u001b[0;34m:\u001b[0m\u001b[0;34m\u001b[0m\u001b[0;34m\u001b[0m\u001b[0m\n",
            "\u001b[0;32m/usr/local/lib/python3.6/dist-packages/tensorflow/python/client/session.py\u001b[0m in \u001b[0;36m_run_fn\u001b[0;34m(feed_dict, fetch_list, target_list, options, run_metadata)\u001b[0m\n\u001b[1;32m   1349\u001b[0m       return self._call_tf_sessionrun(options, feed_dict, fetch_list,\n\u001b[0;32m-> 1350\u001b[0;31m                                       target_list, run_metadata)\n\u001b[0m\u001b[1;32m   1351\u001b[0m \u001b[0;34m\u001b[0m\u001b[0m\n",
            "\u001b[0;32m/usr/local/lib/python3.6/dist-packages/tensorflow/python/client/session.py\u001b[0m in \u001b[0;36m_call_tf_sessionrun\u001b[0;34m(self, options, feed_dict, fetch_list, target_list, run_metadata)\u001b[0m\n\u001b[1;32m   1442\u001b[0m                                             \u001b[0mfetch_list\u001b[0m\u001b[0;34m,\u001b[0m \u001b[0mtarget_list\u001b[0m\u001b[0;34m,\u001b[0m\u001b[0;34m\u001b[0m\u001b[0;34m\u001b[0m\u001b[0m\n\u001b[0;32m-> 1443\u001b[0;31m                                             run_metadata)\n\u001b[0m\u001b[1;32m   1444\u001b[0m \u001b[0;34m\u001b[0m\u001b[0m\n",
            "\u001b[0;31mFailedPreconditionError\u001b[0m: Error while reading resource variable Variable_6 from Container: localhost. This could mean that the variable was uninitialized. Not found: Resource localhost/Variable_6/N10tensorflow3VarE does not exist.\n\t [[{{node MatMul_3/ReadVariableOp}}]]",
            "\nDuring handling of the above exception, another exception occurred:\n",
            "\u001b[0;31mFailedPreconditionError\u001b[0m                   Traceback (most recent call last)",
            "\u001b[0;32m<ipython-input-27-1a750e1ac807>\u001b[0m in \u001b[0;36m<module>\u001b[0;34m()\u001b[0m\n\u001b[1;32m      7\u001b[0m     \u001b[0;32mfor\u001b[0m \u001b[0mi\u001b[0m \u001b[0;32min\u001b[0m \u001b[0mrange\u001b[0m\u001b[0;34m(\u001b[0m\u001b[0miteration\u001b[0m\u001b[0;34m)\u001b[0m\u001b[0;34m:\u001b[0m\u001b[0;34m\u001b[0m\u001b[0;34m\u001b[0m\u001b[0m\n\u001b[1;32m      8\u001b[0m       \u001b[0mbatch_x\u001b[0m\u001b[0;34m,\u001b[0m \u001b[0mbatch_y\u001b[0m \u001b[0;34m=\u001b[0m \u001b[0mx_train\u001b[0m\u001b[0;34m[\u001b[0m\u001b[0mstart\u001b[0m\u001b[0;34m:\u001b[0m \u001b[0mend\u001b[0m\u001b[0;34m]\u001b[0m\u001b[0;34m,\u001b[0m \u001b[0my_train\u001b[0m\u001b[0;34m[\u001b[0m\u001b[0mstart\u001b[0m\u001b[0;34m:\u001b[0m \u001b[0mend\u001b[0m\u001b[0;34m]\u001b[0m\u001b[0;34m\u001b[0m\u001b[0;34m\u001b[0m\u001b[0m\n\u001b[0;32m----> 9\u001b[0;31m       \u001b[0m_\u001b[0m\u001b[0;34m,\u001b[0m \u001b[0mloss\u001b[0m \u001b[0;34m=\u001b[0m \u001b[0msession\u001b[0m\u001b[0;34m.\u001b[0m\u001b[0mrun\u001b[0m\u001b[0;34m(\u001b[0m\u001b[0;34m[\u001b[0m\u001b[0mtrain_op\u001b[0m\u001b[0;34m,\u001b[0m \u001b[0mloss_op\u001b[0m\u001b[0;34m]\u001b[0m\u001b[0;34m,\u001b[0m \u001b[0mfeed_dict\u001b[0m\u001b[0;34m=\u001b[0m\u001b[0;34m{\u001b[0m\u001b[0mX\u001b[0m\u001b[0;34m:\u001b[0m \u001b[0mbatch_x\u001b[0m\u001b[0;34m,\u001b[0m \u001b[0mY\u001b[0m\u001b[0;34m:\u001b[0m \u001b[0mbatch_y\u001b[0m\u001b[0;34m}\u001b[0m\u001b[0;34m)\u001b[0m\u001b[0;34m\u001b[0m\u001b[0;34m\u001b[0m\u001b[0m\n\u001b[0m\u001b[1;32m     10\u001b[0m       \u001b[0mstart\u001b[0m \u001b[0;34m+=\u001b[0m \u001b[0mbatch_size\u001b[0m\u001b[0;34m\u001b[0m\u001b[0;34m\u001b[0m\u001b[0m\n\u001b[1;32m     11\u001b[0m       \u001b[0mend\u001b[0m \u001b[0;34m+=\u001b[0m \u001b[0mbatch_size\u001b[0m\u001b[0;34m\u001b[0m\u001b[0;34m\u001b[0m\u001b[0m\n",
            "\u001b[0;32m/usr/local/lib/python3.6/dist-packages/tensorflow/python/client/session.py\u001b[0m in \u001b[0;36mrun\u001b[0;34m(self, fetches, feed_dict, options, run_metadata)\u001b[0m\n\u001b[1;32m    956\u001b[0m     \u001b[0;32mtry\u001b[0m\u001b[0;34m:\u001b[0m\u001b[0;34m\u001b[0m\u001b[0;34m\u001b[0m\u001b[0m\n\u001b[1;32m    957\u001b[0m       result = self._run(None, fetches, feed_dict, options_ptr,\n\u001b[0;32m--> 958\u001b[0;31m                          run_metadata_ptr)\n\u001b[0m\u001b[1;32m    959\u001b[0m       \u001b[0;32mif\u001b[0m \u001b[0mrun_metadata\u001b[0m\u001b[0;34m:\u001b[0m\u001b[0;34m\u001b[0m\u001b[0;34m\u001b[0m\u001b[0m\n\u001b[1;32m    960\u001b[0m         \u001b[0mproto_data\u001b[0m \u001b[0;34m=\u001b[0m \u001b[0mtf_session\u001b[0m\u001b[0;34m.\u001b[0m\u001b[0mTF_GetBuffer\u001b[0m\u001b[0;34m(\u001b[0m\u001b[0mrun_metadata_ptr\u001b[0m\u001b[0;34m)\u001b[0m\u001b[0;34m\u001b[0m\u001b[0;34m\u001b[0m\u001b[0m\n",
            "\u001b[0;32m/usr/local/lib/python3.6/dist-packages/tensorflow/python/client/session.py\u001b[0m in \u001b[0;36m_run\u001b[0;34m(self, handle, fetches, feed_dict, options, run_metadata)\u001b[0m\n\u001b[1;32m   1179\u001b[0m     \u001b[0;32mif\u001b[0m \u001b[0mfinal_fetches\u001b[0m \u001b[0;32mor\u001b[0m \u001b[0mfinal_targets\u001b[0m \u001b[0;32mor\u001b[0m \u001b[0;34m(\u001b[0m\u001b[0mhandle\u001b[0m \u001b[0;32mand\u001b[0m \u001b[0mfeed_dict_tensor\u001b[0m\u001b[0;34m)\u001b[0m\u001b[0;34m:\u001b[0m\u001b[0;34m\u001b[0m\u001b[0;34m\u001b[0m\u001b[0m\n\u001b[1;32m   1180\u001b[0m       results = self._do_run(handle, final_targets, final_fetches,\n\u001b[0;32m-> 1181\u001b[0;31m                              feed_dict_tensor, options, run_metadata)\n\u001b[0m\u001b[1;32m   1182\u001b[0m     \u001b[0;32melse\u001b[0m\u001b[0;34m:\u001b[0m\u001b[0;34m\u001b[0m\u001b[0;34m\u001b[0m\u001b[0m\n\u001b[1;32m   1183\u001b[0m       \u001b[0mresults\u001b[0m \u001b[0;34m=\u001b[0m \u001b[0;34m[\u001b[0m\u001b[0;34m]\u001b[0m\u001b[0;34m\u001b[0m\u001b[0;34m\u001b[0m\u001b[0m\n",
            "\u001b[0;32m/usr/local/lib/python3.6/dist-packages/tensorflow/python/client/session.py\u001b[0m in \u001b[0;36m_do_run\u001b[0;34m(self, handle, target_list, fetch_list, feed_dict, options, run_metadata)\u001b[0m\n\u001b[1;32m   1357\u001b[0m     \u001b[0;32mif\u001b[0m \u001b[0mhandle\u001b[0m \u001b[0;32mis\u001b[0m \u001b[0;32mNone\u001b[0m\u001b[0;34m:\u001b[0m\u001b[0;34m\u001b[0m\u001b[0;34m\u001b[0m\u001b[0m\n\u001b[1;32m   1358\u001b[0m       return self._do_call(_run_fn, feeds, fetches, targets, options,\n\u001b[0;32m-> 1359\u001b[0;31m                            run_metadata)\n\u001b[0m\u001b[1;32m   1360\u001b[0m     \u001b[0;32melse\u001b[0m\u001b[0;34m:\u001b[0m\u001b[0;34m\u001b[0m\u001b[0;34m\u001b[0m\u001b[0m\n\u001b[1;32m   1361\u001b[0m       \u001b[0;32mreturn\u001b[0m \u001b[0mself\u001b[0m\u001b[0;34m.\u001b[0m\u001b[0m_do_call\u001b[0m\u001b[0;34m(\u001b[0m\u001b[0m_prun_fn\u001b[0m\u001b[0;34m,\u001b[0m \u001b[0mhandle\u001b[0m\u001b[0;34m,\u001b[0m \u001b[0mfeeds\u001b[0m\u001b[0;34m,\u001b[0m \u001b[0mfetches\u001b[0m\u001b[0;34m)\u001b[0m\u001b[0;34m\u001b[0m\u001b[0;34m\u001b[0m\u001b[0m\n",
            "\u001b[0;32m/usr/local/lib/python3.6/dist-packages/tensorflow/python/client/session.py\u001b[0m in \u001b[0;36m_do_call\u001b[0;34m(self, fn, *args)\u001b[0m\n\u001b[1;32m   1382\u001b[0m                     \u001b[0;34m'\\nsession_config.graph_options.rewrite_options.'\u001b[0m\u001b[0;34m\u001b[0m\u001b[0;34m\u001b[0m\u001b[0m\n\u001b[1;32m   1383\u001b[0m                     'disable_meta_optimizer = True')\n\u001b[0;32m-> 1384\u001b[0;31m       \u001b[0;32mraise\u001b[0m \u001b[0mtype\u001b[0m\u001b[0;34m(\u001b[0m\u001b[0me\u001b[0m\u001b[0;34m)\u001b[0m\u001b[0;34m(\u001b[0m\u001b[0mnode_def\u001b[0m\u001b[0;34m,\u001b[0m \u001b[0mop\u001b[0m\u001b[0;34m,\u001b[0m \u001b[0mmessage\u001b[0m\u001b[0;34m)\u001b[0m\u001b[0;34m\u001b[0m\u001b[0;34m\u001b[0m\u001b[0m\n\u001b[0m\u001b[1;32m   1385\u001b[0m \u001b[0;34m\u001b[0m\u001b[0m\n\u001b[1;32m   1386\u001b[0m   \u001b[0;32mdef\u001b[0m \u001b[0m_extend_graph\u001b[0m\u001b[0;34m(\u001b[0m\u001b[0mself\u001b[0m\u001b[0;34m)\u001b[0m\u001b[0;34m:\u001b[0m\u001b[0;34m\u001b[0m\u001b[0;34m\u001b[0m\u001b[0m\n",
            "\u001b[0;31mFailedPreconditionError\u001b[0m: Error while reading resource variable Variable_6 from Container: localhost. This could mean that the variable was uninitialized. Not found: Resource localhost/Variable_6/N10tensorflow3VarE does not exist.\n\t [[node MatMul_3/ReadVariableOp (defined at <ipython-input-24-146f25a228a2>:5) ]]\n\nErrors may have originated from an input operation.\nInput Source operations connected to node MatMul_3/ReadVariableOp:\n Variable_6 (defined at <ipython-input-24-146f25a228a2>:3)\n\nOriginal stack trace for 'MatMul_3/ReadVariableOp':\n  File \"/usr/lib/python3.6/runpy.py\", line 193, in _run_module_as_main\n    \"__main__\", mod_spec)\n  File \"/usr/lib/python3.6/runpy.py\", line 85, in _run_code\n    exec(code, run_globals)\n  File \"/usr/local/lib/python3.6/dist-packages/ipykernel_launcher.py\", line 16, in <module>\n    app.launch_new_instance()\n  File \"/usr/local/lib/python3.6/dist-packages/traitlets/config/application.py\", line 664, in launch_instance\n    app.start()\n  File \"/usr/local/lib/python3.6/dist-packages/ipykernel/kernelapp.py\", line 499, in start\n    self.io_loop.start()\n  File \"/usr/local/lib/python3.6/dist-packages/tornado/platform/asyncio.py\", line 132, in start\n    self.asyncio_loop.run_forever()\n  File \"/usr/lib/python3.6/asyncio/base_events.py\", line 438, in run_forever\n    self._run_once()\n  File \"/usr/lib/python3.6/asyncio/base_events.py\", line 1451, in _run_once\n    handle._run()\n  File \"/usr/lib/python3.6/asyncio/events.py\", line 145, in _run\n    self._callback(*self._args)\n  File \"/usr/local/lib/python3.6/dist-packages/tornado/platform/asyncio.py\", line 122, in _handle_events\n    handler_func(fileobj, events)\n  File \"/usr/local/lib/python3.6/dist-packages/tornado/stack_context.py\", line 300, in null_wrapper\n    return fn(*args, **kwargs)\n  File \"/usr/local/lib/python3.6/dist-packages/zmq/eventloop/zmqstream.py\", line 462, in _handle_events\n    self._handle_recv()\n  File \"/usr/local/lib/python3.6/dist-packages/zmq/eventloop/zmqstream.py\", line 492, in _handle_recv\n    self._run_callback(callback, msg)\n  File \"/usr/local/lib/python3.6/dist-packages/zmq/eventloop/zmqstream.py\", line 444, in _run_callback\n    callback(*args, **kwargs)\n  File \"/usr/local/lib/python3.6/dist-packages/tornado/stack_context.py\", line 300, in null_wrapper\n    return fn(*args, **kwargs)\n  File \"/usr/local/lib/python3.6/dist-packages/ipykernel/kernelbase.py\", line 283, in dispatcher\n    return self.dispatch_shell(stream, msg)\n  File \"/usr/local/lib/python3.6/dist-packages/ipykernel/kernelbase.py\", line 233, in dispatch_shell\n    handler(stream, idents, msg)\n  File \"/usr/local/lib/python3.6/dist-packages/ipykernel/kernelbase.py\", line 399, in execute_request\n    user_expressions, allow_stdin)\n  File \"/usr/local/lib/python3.6/dist-packages/ipykernel/ipkernel.py\", line 208, in do_execute\n    res = shell.run_cell(code, store_history=store_history, silent=silent)\n  File \"/usr/local/lib/python3.6/dist-packages/ipykernel/zmqshell.py\", line 537, in run_cell\n    return super(ZMQInteractiveShell, self).run_cell(*args, **kwargs)\n  File \"/usr/local/lib/python3.6/dist-packages/IPython/core/interactiveshell.py\", line 2718, in run_cell\n    interactivity=interactivity, compiler=compiler, result=result)\n  File \"/usr/local/lib/python3.6/dist-packages/IPython/core/interactiveshell.py\", line 2822, in run_ast_nodes\n    if self.run_code(code, result):\n  File \"/usr/local/lib/python3.6/dist-packages/IPython/core/interactiveshell.py\", line 2882, in run_code\n    exec(code_obj, self.user_global_ns, self.user_ns)\n  File \"<ipython-input-26-b080db445772>\", line 1, in <module>\n    logits = multilayer_perceptron(X, no_labels)\n  File \"<ipython-input-24-146f25a228a2>\", line 5, in multilayer_perceptron\n    first_layer_output = tf.nn.relu(tf.add(tf.matmul(x, first_weight), first_bias))\n  File \"/usr/local/lib/python3.6/dist-packages/tensorflow/python/util/dispatch.py\", line 201, in wrapper\n    return target(*args, **kwargs)\n  File \"/usr/local/lib/python3.6/dist-packages/tensorflow/python/ops/math_ops.py\", line 3196, in matmul\n    b = ops.convert_to_tensor(b, dtype_hint=a.dtype.base_dtype, name=\"b\")\n  File \"/usr/local/lib/python3.6/dist-packages/tensorflow/python/framework/ops.py\", line 1487, in convert_to_tensor\n    value, dtype=preferred_dtype, name=name, as_ref=as_ref)\n  File \"/usr/local/lib/python3.6/dist-packages/tensorflow/python/ops/resource_variable_ops.py\", line 1909, in _dense_var_to_tensor\n    return var._dense_var_to_tensor(dtype=dtype, name=name, as_ref=as_ref)  # pylint: disable=protected-access\n  File \"/usr/local/lib/python3.6/dist-packages/tensorflow/python/ops/resource_variable_ops.py\", line 1326, in _dense_var_to_tensor\n    return self.value()\n  File \"/usr/local/lib/python3.6/dist-packages/tensorflow/python/ops/resource_variable_ops.py\", line 555, in value\n    return self._read_variable_op()\n  File \"/usr/local/lib/python3.6/dist-packages/tensorflow/python/ops/resource_variable_ops.py\", line 657, in _read_variable_op\n    result = read_and_set_handle()\n  File \"/usr/local/lib/python3.6/dist-packages/tensorflow/python/ops/resource_variable_ops.py\", line 648, in read_and_set_handle\n    self._dtype)\n  File \"/usr/local/lib/python3.6/dist-packages/tensorflow/python/ops/gen_resource_variable_ops.py\", line 491, in read_variable_op\n    \"ReadVariableOp\", resource=resource, dtype=dtype, name=name)\n  File \"/usr/local/lib/python3.6/dist-packages/tensorflow/python/framework/op_def_library.py\", line 744, in _apply_op_helper\n    attrs=attr_protos, op_def=op_def)\n  File \"/usr/local/lib/python3.6/dist-packages/tensorflow/python/framework/ops.py\", line 3485, in _create_op_internal\n    op_def=op_def)\n  File \"/usr/local/lib/python3.6/dist-packages/tensorflow/python/framework/ops.py\", line 1949, in __init__\n    self._traceback = tf_stack.extract_stack()\n"
          ]
        }
      ]
    },
    {
      "cell_type": "code",
      "metadata": {
        "id": "dm6abY_MCN3G",
        "colab_type": "code",
        "colab": {}
      },
      "source": [
        "from tensorflow.keras.layers import Dense\n",
        "from tensorflow.keras.models import Sequential"
      ],
      "execution_count": null,
      "outputs": []
    },
    {
      "cell_type": "code",
      "metadata": {
        "id": "5VSebLx5C29R",
        "colab_type": "code",
        "colab": {}
      },
      "source": [
        "model = Sequential()\n",
        "model.add(Dense(256, activation='relu', input_shape=(new_dimension,)))\n",
        "model.add(Dense(128, activation='relu'))\n",
        "model.add(Dense(no_labels, activation='softmax'))"
      ],
      "execution_count": null,
      "outputs": []
    },
    {
      "cell_type": "code",
      "metadata": {
        "id": "scptD0hrC4Vo",
        "colab_type": "code",
        "colab": {
          "base_uri": "https://localhost:8080/",
          "height": 819
        },
        "outputId": "e04f6306-4cc9-4679-ab78-e4c73c042b59"
      },
      "source": [
        "model.compile(optimizer='adam', loss=tf.keras.losses.categorical_crossentropy, \n",
        "              metrics=['accuracy'])\n",
        "history = model.fit(x_train, y_train, validation_data=(x_val, y_val), epochs=20, batch_size=1000)\n",
        "\n",
        "test_loss, test_accuracy = model.evaluate(test_images, y_test)\n",
        "print('Test loss: {}'.format(test_loss))\n",
        "print('Test accuracy: {}'.format(test_accuracy))\n"
      ],
      "execution_count": null,
      "outputs": [
        {
          "output_type": "stream",
          "text": [
            "Train on 50000 samples, validate on 10000 samples\n",
            "Epoch 1/20\n",
            "50000/50000 [==============================] - ETA: 0s - loss: 0.6796 - accuracy: 0.8252WARNING:tensorflow:From /usr/local/lib/python3.6/dist-packages/tensorflow/python/keras/engine/training_v1.py:2048: Model.state_updates (from tensorflow.python.keras.engine.training) is deprecated and will be removed in a future version.\n",
            "Instructions for updating:\n",
            "This property should not be used in TensorFlow 2.0, as updates are applied automatically.\n",
            "50000/50000 [==============================] - 1s 29us/sample - loss: 0.6796 - accuracy: 0.8252 - val_loss: 0.2601 - val_accuracy: 0.9265\n",
            "Epoch 2/20\n",
            "50000/50000 [==============================] - 1s 29us/sample - loss: 0.2405 - accuracy: 0.9305 - val_loss: 0.1894 - val_accuracy: 0.9477\n",
            "Epoch 3/20\n",
            "50000/50000 [==============================] - 1s 29us/sample - loss: 0.1756 - accuracy: 0.9500 - val_loss: 0.1531 - val_accuracy: 0.9569\n",
            "Epoch 4/20\n",
            "50000/50000 [==============================] - 1s 28us/sample - loss: 0.1408 - accuracy: 0.9593 - val_loss: 0.1321 - val_accuracy: 0.9640\n",
            "Epoch 5/20\n",
            "50000/50000 [==============================] - 1s 29us/sample - loss: 0.1148 - accuracy: 0.9667 - val_loss: 0.1208 - val_accuracy: 0.9659\n",
            "Epoch 6/20\n",
            "50000/50000 [==============================] - 1s 30us/sample - loss: 0.0973 - accuracy: 0.9720 - val_loss: 0.1102 - val_accuracy: 0.9690\n",
            "Epoch 7/20\n",
            "50000/50000 [==============================] - 1s 29us/sample - loss: 0.0803 - accuracy: 0.9773 - val_loss: 0.0990 - val_accuracy: 0.9705\n",
            "Epoch 8/20\n",
            "50000/50000 [==============================] - 1s 29us/sample - loss: 0.0682 - accuracy: 0.9808 - val_loss: 0.0938 - val_accuracy: 0.9731\n",
            "Epoch 9/20\n",
            "50000/50000 [==============================] - 1s 29us/sample - loss: 0.0591 - accuracy: 0.9836 - val_loss: 0.0894 - val_accuracy: 0.9729\n",
            "Epoch 10/20\n",
            "50000/50000 [==============================] - 1s 29us/sample - loss: 0.0506 - accuracy: 0.9867 - val_loss: 0.0864 - val_accuracy: 0.9747\n",
            "Epoch 11/20\n",
            "50000/50000 [==============================] - 1s 28us/sample - loss: 0.0455 - accuracy: 0.9875 - val_loss: 0.0845 - val_accuracy: 0.9754\n",
            "Epoch 12/20\n",
            "50000/50000 [==============================] - 1s 29us/sample - loss: 0.0389 - accuracy: 0.9898 - val_loss: 0.0798 - val_accuracy: 0.9756\n",
            "Epoch 13/20\n",
            "50000/50000 [==============================] - 1s 29us/sample - loss: 0.0338 - accuracy: 0.9916 - val_loss: 0.0797 - val_accuracy: 0.9761\n",
            "Epoch 14/20\n",
            "50000/50000 [==============================] - 1s 29us/sample - loss: 0.0289 - accuracy: 0.9929 - val_loss: 0.0827 - val_accuracy: 0.9742\n",
            "Epoch 15/20\n",
            "50000/50000 [==============================] - 1s 28us/sample - loss: 0.0251 - accuracy: 0.9942 - val_loss: 0.0817 - val_accuracy: 0.9747\n",
            "Epoch 16/20\n",
            "50000/50000 [==============================] - 1s 29us/sample - loss: 0.0224 - accuracy: 0.9948 - val_loss: 0.0820 - val_accuracy: 0.9753\n",
            "Epoch 17/20\n",
            "50000/50000 [==============================] - 1s 29us/sample - loss: 0.0193 - accuracy: 0.9958 - val_loss: 0.0759 - val_accuracy: 0.9774\n",
            "Epoch 18/20\n",
            "50000/50000 [==============================] - 1s 28us/sample - loss: 0.0159 - accuracy: 0.9970 - val_loss: 0.0786 - val_accuracy: 0.9767\n",
            "Epoch 19/20\n",
            "50000/50000 [==============================] - 1s 29us/sample - loss: 0.0137 - accuracy: 0.9977 - val_loss: 0.0794 - val_accuracy: 0.9778\n",
            "Epoch 20/20\n",
            "50000/50000 [==============================] - 1s 29us/sample - loss: 0.0127 - accuracy: 0.9977 - val_loss: 0.0764 - val_accuracy: 0.9776\n",
            "Test loss: 0.07186405738588074\n",
            "Test accuracy: 0.9793000221252441\n"
          ],
          "name": "stdout"
        }
      ]
    },
    {
      "cell_type": "code",
      "metadata": {
        "id": "A3TFhbOKC6Ji",
        "colab_type": "code",
        "colab": {
          "base_uri": "https://localhost:8080/",
          "height": 312
        },
        "outputId": "95d23d52-f3ee-44c7-9395-f689990d9b16"
      },
      "source": [
        "plt.figure()\n",
        "plt.plot(history.history['loss'], 'blue')\n",
        "plt.plot(history.history['val_loss'], 'red')\n",
        "plt.legend(['Training loss', 'Validation Loss'])\n",
        "plt.xlabel('Epochs')\n",
        "plt.ylabel('Loss')\n",
        "plt.title('Loss Curves - before regularisation')\n"
      ],
      "execution_count": null,
      "outputs": [
        {
          "output_type": "execute_result",
          "data": {
            "text/plain": [
              "Text(0.5, 1.0, 'Loss Curves - before regularisation')"
            ]
          },
          "metadata": {
            "tags": []
          },
          "execution_count": 31
        },
        {
          "output_type": "display_data",
          "data": {
            "image/png": "[encoded data removed]",
            "text/plain": [
              "<Figure size 432x288 with 1 Axes>"
            ]
          },
          "metadata": {
            "tags": [],
            "needs_background": "light"
          }
        }
      ]
    },
    {
      "cell_type": "code",
      "metadata": {
        "id": "iAgVwhDOC_kW",
        "colab_type": "code",
        "colab": {
          "base_uri": "https://localhost:8080/",
          "height": 1000
        },
        "outputId": "726e548b-a09c-4980-bd36-814f4dbf6c27"
      },
      "source": [
        "from tensorflow.keras.layers import Dropout\n",
        "reg_model = Sequential()\n",
        "reg_model.add(Dense(256, activation='relu', input_shape=(new_dimension,)))\n",
        "reg_model.add(Dropout(0.4))\n",
        "reg_model.add(Dense(128, activation='relu'))\n",
        "reg_model.add(Dropout(0.4))\n",
        "reg_model.add(Dense(no_labels, activation='softmax'))\n",
        "\n",
        "reg_model.compile(optimizer='adam', loss=tf.keras.losses.categorical_crossentropy, \n",
        "              metrics=['accuracy'])\n",
        "\n",
        "reg_history = reg_model.fit(x_train, y_train, validation_data=(x_val, y_val), \n",
        "                            epochs=20, batch_size=1000)\n",
        "test_loss, test_accuracy = reg_model.evaluate(test_images, y_test)\n",
        "print('Test loss: {}'.format(test_loss))\n",
        "print('Test accuracy: {}'.format(test_accuracy))\n",
        "\n",
        "# test_loss, test_accuracy = reg_model.evaluate(test_images, test_labels)\n",
        "# print('Test loss: {}'.format(test_loss))\n",
        "# print('Test accuracy: {}'.format(test_accuracy))\n",
        "\n",
        "plt.figure()\n",
        "plt.plot(reg_history.history['loss'], 'blue')\n",
        "plt.plot(reg_history.history['val_loss'], 'red')\n",
        "plt.legend(['Training loss', 'Validation Loss'])\n",
        "plt.xlabel('Epochs')\n",
        "plt.ylabel('Loss')\n",
        "plt.title('Loss Curves - after regularisation')"
      ],
      "execution_count": null,
      "outputs": [
        {
          "output_type": "stream",
          "text": [
            "Train on 50000 samples, validate on 10000 samples\n",
            "Epoch 1/20\n",
            "50000/50000 [==============================] - 2s 35us/sample - loss: 0.9446 - accuracy: 0.6996 - val_loss: 0.2874 - val_accuracy: 0.9184\n",
            "Epoch 2/20\n",
            "50000/50000 [==============================] - 2s 34us/sample - loss: 0.3748 - accuracy: 0.8888 - val_loss: 0.1986 - val_accuracy: 0.9420\n",
            "Epoch 3/20\n",
            "50000/50000 [==============================] - 2s 34us/sample - loss: 0.2813 - accuracy: 0.9176 - val_loss: 0.1606 - val_accuracy: 0.9543\n",
            "Epoch 4/20\n",
            "50000/50000 [==============================] - 2s 34us/sample - loss: 0.2344 - accuracy: 0.9322 - val_loss: 0.1370 - val_accuracy: 0.9610\n",
            "Epoch 5/20\n",
            "50000/50000 [==============================] - 2s 35us/sample - loss: 0.2016 - accuracy: 0.9406 - val_loss: 0.1199 - val_accuracy: 0.9664\n",
            "Epoch 6/20\n",
            "50000/50000 [==============================] - 2s 34us/sample - loss: 0.1769 - accuracy: 0.9483 - val_loss: 0.1120 - val_accuracy: 0.9674\n",
            "Epoch 7/20\n",
            "50000/50000 [==============================] - 2s 34us/sample - loss: 0.1610 - accuracy: 0.9529 - val_loss: 0.1020 - val_accuracy: 0.9710\n",
            "Epoch 8/20\n",
            "50000/50000 [==============================] - 2s 34us/sample - loss: 0.1440 - accuracy: 0.9578 - val_loss: 0.0962 - val_accuracy: 0.9720\n",
            "Epoch 9/20\n",
            "50000/50000 [==============================] - 2s 34us/sample - loss: 0.1311 - accuracy: 0.9605 - val_loss: 0.0903 - val_accuracy: 0.9732\n",
            "Epoch 10/20\n",
            "50000/50000 [==============================] - 2s 34us/sample - loss: 0.1217 - accuracy: 0.9638 - val_loss: 0.0871 - val_accuracy: 0.9741\n",
            "Epoch 11/20\n",
            "50000/50000 [==============================] - 2s 35us/sample - loss: 0.1139 - accuracy: 0.9650 - val_loss: 0.0828 - val_accuracy: 0.9773\n",
            "Epoch 12/20\n",
            "50000/50000 [==============================] - 2s 34us/sample - loss: 0.1052 - accuracy: 0.9690 - val_loss: 0.0784 - val_accuracy: 0.9755\n",
            "Epoch 13/20\n",
            "50000/50000 [==============================] - 2s 34us/sample - loss: 0.0973 - accuracy: 0.9706 - val_loss: 0.0770 - val_accuracy: 0.9779\n",
            "Epoch 14/20\n",
            "50000/50000 [==============================] - 2s 34us/sample - loss: 0.0918 - accuracy: 0.9723 - val_loss: 0.0759 - val_accuracy: 0.9784\n",
            "Epoch 15/20\n",
            "50000/50000 [==============================] - 2s 34us/sample - loss: 0.0856 - accuracy: 0.9733 - val_loss: 0.0749 - val_accuracy: 0.9784\n",
            "Epoch 16/20\n",
            "50000/50000 [==============================] - 2s 34us/sample - loss: 0.0833 - accuracy: 0.9747 - val_loss: 0.0738 - val_accuracy: 0.9791\n",
            "Epoch 17/20\n",
            "50000/50000 [==============================] - 2s 34us/sample - loss: 0.0791 - accuracy: 0.9751 - val_loss: 0.0757 - val_accuracy: 0.9791\n",
            "Epoch 18/20\n",
            "50000/50000 [==============================] - 2s 34us/sample - loss: 0.0741 - accuracy: 0.9771 - val_loss: 0.0711 - val_accuracy: 0.9793\n",
            "Epoch 19/20\n",
            "50000/50000 [==============================] - 2s 34us/sample - loss: 0.0722 - accuracy: 0.9777 - val_loss: 0.0701 - val_accuracy: 0.9807\n",
            "Epoch 20/20\n",
            "50000/50000 [==============================] - 2s 34us/sample - loss: 0.0697 - accuracy: 0.9778 - val_loss: 0.0733 - val_accuracy: 0.9790\n",
            "Test loss: 0.07523033125511137\n",
            "Test accuracy: 0.9787999987602234\n"
          ],
          "name": "stdout"
        },
        {
          "output_type": "execute_result",
          "data": {
            "text/plain": [
              "Text(0.5, 1.0, 'Loss Curves - after regularisation')"
            ]
          },
          "metadata": {
            "tags": []
          },
          "execution_count": 32
        },
        {
          "output_type": "display_data",
          "data": {
            "image/png": "[encoded data removed]",
            "text/plain": [
              "<Figure size 432x288 with 1 Axes>"
            ]
          },
          "metadata": {
            "tags": [],
            "needs_background": "light"
          }
        }
      ]
    },
    {
      "cell_type": "code",
      "metadata": {
        "id": "vQy3FbMrDEKV",
        "colab_type": "code",
        "colab": {}
      },
      "source": [
        ""
      ],
      "execution_count": null,
      "outputs": []
    }
  ]
}